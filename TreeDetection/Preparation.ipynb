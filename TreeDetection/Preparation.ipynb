{
 "cells": [
  {
   "cell_type": "markdown",
   "metadata": {},
   "source": [
    "# Praca inżynierska\n",
    "Marcin Bobiński\n",
    "nr albumu: 297225"
   ]
  },
  {
   "cell_type": "code",
   "execution_count": 1,
   "metadata": {
    "pycharm": {
     "name": "#%%\n"
    }
   },
   "outputs": [],
   "source": [
    "import os\n",
    "HOME_PATH = os.getcwd()\n",
    "RESEARCH_PATH = os.path.join(HOME_PATH, \"models/research\")\n",
    "DATASET_PATH = os.path.join(HOME_PATH, \"Dataset\")\n",
    "PRETRAINED_MODELS_PATH = os.path.join(HOME_PATH, \"pretrained_models\")\n",
    "DATA_PATH = os.path.join(HOME_PATH, \"data\")\n",
    "TF_RECORD_PATH = os.path.join(DATA_PATH, \"tf_record\")\n",
    "MY_MODEL = os.path.join(HOME_PATH, \"my_model\")"
   ]
  },
  {
   "cell_type": "markdown",
   "metadata": {},
   "source": [
    "# Przygotowanie\n",
    "## TensorFlow Object Detection Api\n",
    "Pierwszym krokiem jest sklonowanie repezytorium\n",
    "```\n",
    "git clone https://github.com/tensorflow/models.git\n",
    "```\n",
    "</br>\n",
    "\n",
    "Następnie należy zainstalować przy pomocy menadżera pakietów pip lub w wirtualnym środowisku Docker. W przypadku wyboru pierwszej opcji zalecana jest instalacja na nowym środowisku.\n",
    "\n",
    "1. <strong>Pip </strong> </br>\n",
    "Najpierw należy zainstalować Protobufa np. https://github.com/protocolbuffers/protobuf/releases </br>\n",
    "Oraz dodać go do ścieżki.\n",
    "Następnie, przy jego pomocy z poziomu katalogu models/research wywołać:\n",
    "```\n",
    "protoc object_detection/protos/*.proto --python_out=.\n",
    "```\n",
    "Z tego samego poziomu skopiować plik instalacyjny:\n",
    "```\n",
    "cp object_detection/packages/tf2/setup.py .\n",
    "```\n",
    "A następnie dokonać instalacji:\n",
    "```\n",
    "python -m pip install --use-feature=2020-resolver .\n",
    "```\n",
    "\n",
    "2. <strong> Docker </strong></br>\n",
    "Przygotowanie środowiska:\n",
    "```\n",
    "docker build -f research/object_detection/dockerfiles/tf2/Dockerfile -t od .\n",
    "```\n",
    "Uruchomienie środowiska:\n",
    "```\n",
    "docker run -it od\n",
    "```\n",
    "\n",
    "Test przeprowadzonej instalacji można wykonać przy pomocy komendy:\n",
    "```\n",
    "python object_detection/builders/model_builder_tf2_test.py\n",
    "```"
   ]
  },
  {
   "cell_type": "code",
   "execution_count": null,
   "metadata": {
    "pycharm": {
     "name": "#%%\n"
    }
   },
   "outputs": [],
   "source": [
    "# Instalacja PIP\n",
    "os.chdir(RESEARCH_PATH)\n",
    "os.system(\"protoc object_detection/protos/*.proto --python_out=.\")\n",
    "os.system(\"cp object_detection/packages/tf2/setup.py .\")\n",
    "os.system(\"python -m pip install --use-feature=2020-resolver .\")"
   ]
  },
  {
   "cell_type": "code",
   "execution_count": null,
   "metadata": {
    "pycharm": {
     "name": "#%%\n"
    }
   },
   "outputs": [],
   "source": [
    "# Instalacja Docker\n",
    "os.chdir(HOME_PATH)\n",
    "os.system(\"docker build -f research/object_detection/dockerfiles/tf2/Dockerfile -t od .\")\n",
    "os.system(\"docker run -it od\")"
   ]
  },
  {
   "cell_type": "code",
   "execution_count": 5,
   "metadata": {
    "pycharm": {
     "name": "#%%\n"
    }
   },
   "outputs": [],
   "source": [
    "# Weryfikacja poprawności instalacji\n",
    "os.chdir(RESEARCH_PATH)\n",
    "result = os.system(\"python object_detection/builders/model_builder_tf2_test.py\")\n",
    "assert result==0, \"Object detection api wasn't installed properly\""
   ]
  },
  {
   "cell_type": "markdown",
   "metadata": {
    "pycharm": {
     "name": "#%% md\n"
    }
   },
   "source": [
    "## Pobranie pretrenowanych modeli"
   ]
  },
  {
   "cell_type": "code",
   "execution_count": 13,
   "metadata": {
    "pycharm": {
     "name": "#%%\n"
    }
   },
   "outputs": [],
   "source": [
    "# Stworzenie folderu dla pretrenowanych modeli\n",
    "os.chdir(HOME_PATH)\n",
    "PRETRAINED_MODELS_PATH = os.path.join(HOME_PATH, \"pretrained_models\")\n",
    "if not os.path.exists(PRETRAINED_MODELS_PATH):\n",
    "    os.makedirs(PRETRAINED_MODELS_PATH)"
   ]
  },
  {
   "cell_type": "markdown",
   "metadata": {
    "pycharm": {
     "name": "#%% md\n"
    }
   },
   "source": [
    "### Mask Rcnn model"
   ]
  },
  {
   "cell_type": "code",
   "execution_count": 17,
   "metadata": {
    "pycharm": {
     "name": "#%%\n"
    }
   },
   "outputs": [],
   "source": [
    "import tensorflow as tf\n",
    "import shutil\n",
    "\n",
    "name = \"mask_rcnn\"\n",
    "base_url = 'http://download.tensorflow.org/models/object_detection/tf2/20200711/'\n",
    "model_name =  \"mask_rcnn_inception_resnet_v2_1024x1024_coco17_gpu-8\"\n",
    "model_file = model_name + '.tar.gz'\n",
    "\n",
    "model_dir = tf.keras.utils.get_file(\n",
    "    fname=model_name,\n",
    "    origin=base_url + model_file,\n",
    "    untar=True\n",
    ")\n",
    "\n",
    "MASK_RCNN_PATH = shutil.copytree(model_dir, os.path.join(PRETRAINED_MODELS_PATH, name))"
   ]
  },
  {
   "cell_type": "markdown",
   "metadata": {
    "pycharm": {
     "name": "#%% md\n"
    }
   },
   "source": [
    "## Pobranie datasetu\n",
    "Zdjęcia drzew pobrane ze strony: http://labelme.csail.mit.edu/Release3.0/\n",
    "</br>\n",
    "Linki do pobrania datasetu:\n",
    "- train: http://groups.csail.mit.edu/vision/LabelMe/Benchmarks/spain/training.tar.gz\n",
    "- test: http://groups.csail.mit.edu/vision/LabelMe/Benchmarks/spain/test.tar.gz"
   ]
  },
  {
   "cell_type": "code",
   "execution_count": 4,
   "outputs": [
    {
     "name": "stdout",
     "output_type": "stream",
     "text": [
      "Downloading data from http://groups.csail.mit.edu/vision/LabelMe/Benchmarks/spain/training.tar.gz\n",
      "6184763392/6184759694 [==============================] - 687s 0us/step\n",
      "6184771584/6184759694 [==============================] - 687s 0us/step\n",
      "Downloading data from http://groups.csail.mit.edu/vision/LabelMe/Benchmarks/spain/test.tar.gz\n",
      "1978982400/1978974639 [==============================] - 175s 0us/step\n",
      "1978990592/1978974639 [==============================] - 175s 0us/step\n"
     ]
    }
   ],
   "source": [
    "import tensorflow as tf\n",
    "import shutil\n",
    "\n",
    "# Stworzenie folderu dla pobranego datasetu\n",
    "os.chdir(HOME_PATH)\n",
    "if not os.path.exists(DATASET_PATH):\n",
    "    os.makedirs(DATASET_PATH)\n",
    "\n",
    "train_url = \"http://groups.csail.mit.edu/vision/LabelMe/Benchmarks/spain/training.tar.gz\"\n",
    "train_dir = tf.keras.utils.get_file(\n",
    "    fname=\"train\",\n",
    "    origin=train_url,\n",
    "    untar=True\n",
    ")\n",
    "_ = shutil.copytree(train_dir, os.path.join(DATASET_PATH, \"train\"))\n",
    "\n",
    "test_url = \"http://groups.csail.mit.edu/vision/LabelMe/Benchmarks/spain/test.tar.gz\"\n",
    "test_dir = tf.keras.utils.get_file(\n",
    "    fname=\"test\",\n",
    "    origin=test_url,\n",
    "    untar=True\n",
    ")\n",
    "_ = shutil.copytree(test_dir, os.path.join(DATASET_PATH, \"test\"))"
   ],
   "metadata": {
    "collapsed": false,
    "pycharm": {
     "name": "#%%\n"
    }
   }
  },
  {
   "cell_type": "markdown",
   "metadata": {},
   "source": [
    "## Przygotowywanie zdjęć"
   ]
  },
  {
   "cell_type": "code",
   "execution_count": 99,
   "outputs": [],
   "source": [
    "import os\n",
    "import shutil\n",
    "\n",
    "\n",
    "_ = shutil.copytree(os.path.join(DATASET_PATH,\"train\"), os.path.join(DATA_PATH, \"train\"))\n",
    "_ = shutil.copytree(os.path.join(DATASET_PATH,\"test\"), os.path.join(DATA_PATH, \"test\"))"
   ],
   "metadata": {
    "collapsed": false,
    "pycharm": {
     "name": "#%%\n"
    }
   }
  },
  {
   "cell_type": "code",
   "execution_count": 100,
   "outputs": [],
   "source": [
    "from utils import prepare_data_utils as pdu\n",
    "\n",
    "pdu.filterAndPrepareData(DATA_PATH, \"train\", [\"tree\"], [\"trees\"])\n",
    "pdu.filterAndPrepareData(DATA_PATH, \"test\", [\"tree\"], [\"trees\"])"
   ],
   "metadata": {
    "collapsed": false,
    "pycharm": {
     "name": "#%%\n"
    }
   }
  },
  {
   "cell_type": "code",
   "execution_count": 101,
   "outputs": [],
   "source": [
    "import os\n",
    "import shutil\n",
    "from utils import prepare_data_utils as pdu\n",
    "\n",
    "pdu.flatten(os.path.join(DATA_PATH, \"test\"))\n",
    "pdu.flatten(os.path.join(DATA_PATH, \"train\"))\n",
    "\n",
    "shutil.rmtree(os.path.join(DATA_PATH, \"train/Images\" ))\n",
    "shutil.rmtree(os.path.join(DATA_PATH, \"train/Annotations\" ))\n",
    "shutil.rmtree(os.path.join(DATA_PATH, \"test/Images\" ))\n",
    "shutil.rmtree(os.path.join(DATA_PATH, \"test/Annotations\" ))"
   ],
   "metadata": {
    "collapsed": false,
    "pycharm": {
     "name": "#%%\n"
    }
   }
  },
  {
   "cell_type": "markdown",
   "source": [
    "# Uczenie modelu\n",
    "## Przygotowanie plików tf record"
   ],
   "metadata": {
    "collapsed": false,
    "pycharm": {
     "name": "#%% md\n"
    }
   }
  },
  {
   "cell_type": "code",
   "execution_count": 3,
   "outputs": [],
   "source": [
    "import os\n",
    "\n",
    "if not os.path.exists(TF_RECORD_PATH):\n",
    "    os.makedirs(TF_RECORD_PATH)"
   ],
   "metadata": {
    "collapsed": false,
    "pycharm": {
     "name": "#%%\n"
    }
   }
  },
  {
   "cell_type": "code",
   "execution_count": 4,
   "outputs": [
    {
     "name": "stdout",
     "output_type": "stream",
     "text": [
      "Finished\n",
      "Total annotations skipped: 53\n",
      "Finished\n",
      "Total annotations skipped: 46\n"
     ]
    }
   ],
   "source": [
    "from utils.tree_tf_record import create_tf_record_from_labelme_xml\n",
    "\n",
    "create_tf_record_from_labelme_xml(os.path.join(DATA_PATH, \"train\"), os.path.join(TF_RECORD_PATH, \"train\"), 25)\n",
    "create_tf_record_from_labelme_xml(os.path.join(DATA_PATH, \"test\"), os.path.join(TF_RECORD_PATH, \"test\"), 10)"
   ],
   "metadata": {
    "collapsed": false,
    "pycharm": {
     "name": "#%%\n"
    }
   }
  },
  {
   "cell_type": "markdown",
   "source": [
    "Label Map"
   ],
   "metadata": {
    "collapsed": false,
    "pycharm": {
     "name": "#%% md\n"
    }
   }
  },
  {
   "cell_type": "code",
   "execution_count": 6,
   "outputs": [],
   "source": [
    "with open(os.path.join(DATA_PATH, \"annotations.pbtxt\"), 'w') as file:\n",
    "    file.write(\"item { \\n\\tid: 1\\n\\tname: \\'tree\\'\\n}\")"
   ],
   "metadata": {
    "collapsed": false,
    "pycharm": {
     "name": "#%%\n"
    }
   }
  },
  {
   "cell_type": "markdown",
   "source": [
    "Config"
   ],
   "metadata": {
    "collapsed": false,
    "pycharm": {
     "name": "#%% md\n"
    }
   }
  },
  {
   "cell_type": "code",
   "execution_count": 2,
   "outputs": [
    {
     "ename": "PermissionError",
     "evalue": "[Errno 13] Permission denied: 'D:\\\\DEV\\\\GeoTree\\\\TreeDetection\\\\my_model'",
     "output_type": "error",
     "traceback": [
      "\u001B[1;31m---------------------------------------------------------------------------\u001B[0m",
      "\u001B[1;31mPermissionError\u001B[0m                           Traceback (most recent call last)",
      "\u001B[1;32m<ipython-input-2-bbe941b6b411>\u001B[0m in \u001B[0;36m<module>\u001B[1;34m\u001B[0m\n\u001B[0;32m      8\u001B[0m shutil.copyfile(\n\u001B[0;32m      9\u001B[0m     \u001B[0mos\u001B[0m\u001B[1;33m.\u001B[0m\u001B[0mpath\u001B[0m\u001B[1;33m.\u001B[0m\u001B[0mjoin\u001B[0m\u001B[1;33m(\u001B[0m\u001B[0mPRETRAINED_MODELS_PATH\u001B[0m\u001B[1;33m,\u001B[0m\u001B[1;34m\"mask_rcnn\"\u001B[0m\u001B[1;33m,\u001B[0m\u001B[1;34m\"pipeline.config\"\u001B[0m\u001B[1;33m)\u001B[0m\u001B[1;33m,\u001B[0m\u001B[1;33m\u001B[0m\u001B[1;33m\u001B[0m\u001B[0m\n\u001B[1;32m---> 10\u001B[1;33m     \u001B[0mMY_MODEL\u001B[0m\u001B[1;33m\u001B[0m\u001B[1;33m\u001B[0m\u001B[0m\n\u001B[0m\u001B[0;32m     11\u001B[0m )\n",
      "\u001B[1;32m~\\.conda\\envs\\tfod\\lib\\shutil.py\u001B[0m in \u001B[0;36mcopyfile\u001B[1;34m(src, dst, follow_symlinks)\u001B[0m\n\u001B[0;32m    119\u001B[0m     \u001B[1;32melse\u001B[0m\u001B[1;33m:\u001B[0m\u001B[1;33m\u001B[0m\u001B[1;33m\u001B[0m\u001B[0m\n\u001B[0;32m    120\u001B[0m         \u001B[1;32mwith\u001B[0m \u001B[0mopen\u001B[0m\u001B[1;33m(\u001B[0m\u001B[0msrc\u001B[0m\u001B[1;33m,\u001B[0m \u001B[1;34m'rb'\u001B[0m\u001B[1;33m)\u001B[0m \u001B[1;32mas\u001B[0m \u001B[0mfsrc\u001B[0m\u001B[1;33m:\u001B[0m\u001B[1;33m\u001B[0m\u001B[1;33m\u001B[0m\u001B[0m\n\u001B[1;32m--> 121\u001B[1;33m             \u001B[1;32mwith\u001B[0m \u001B[0mopen\u001B[0m\u001B[1;33m(\u001B[0m\u001B[0mdst\u001B[0m\u001B[1;33m,\u001B[0m \u001B[1;34m'wb'\u001B[0m\u001B[1;33m)\u001B[0m \u001B[1;32mas\u001B[0m \u001B[0mfdst\u001B[0m\u001B[1;33m:\u001B[0m\u001B[1;33m\u001B[0m\u001B[1;33m\u001B[0m\u001B[0m\n\u001B[0m\u001B[0;32m    122\u001B[0m                 \u001B[0mcopyfileobj\u001B[0m\u001B[1;33m(\u001B[0m\u001B[0mfsrc\u001B[0m\u001B[1;33m,\u001B[0m \u001B[0mfdst\u001B[0m\u001B[1;33m)\u001B[0m\u001B[1;33m\u001B[0m\u001B[1;33m\u001B[0m\u001B[0m\n\u001B[0;32m    123\u001B[0m     \u001B[1;32mreturn\u001B[0m \u001B[0mdst\u001B[0m\u001B[1;33m\u001B[0m\u001B[1;33m\u001B[0m\u001B[0m\n",
      "\u001B[1;31mPermissionError\u001B[0m: [Errno 13] Permission denied: 'D:\\\\DEV\\\\GeoTree\\\\TreeDetection\\\\my_model'"
     ]
    }
   ],
   "source": [
    "import os\n",
    "import shutil\n",
    "\n",
    "os.chdir(HOME_PATH)\n",
    "if not os.path.exists(MY_MODEL):\n",
    "    os.makedirs(MY_MODEL)\n",
    "\n",
    "shutil.copyfile(\n",
    "    os.path.join(PRETRAINED_MODELS_PATH,\"mask_rcnn\",\"pipeline.config\"),\n",
    "    MY_MODEL\n",
    ")"
   ],
   "metadata": {
    "collapsed": false,
    "pycharm": {
     "name": "#%%\n"
    }
   }
  },
  {
   "cell_type": "markdown",
   "source": [
    "Uczenie"
   ],
   "metadata": {
    "collapsed": false,
    "pycharm": {
     "name": "#%% md\n"
    }
   }
  },
  {
   "cell_type": "code",
   "execution_count": 3,
   "outputs": [
    {
     "name": "stdout",
     "output_type": "stream",
     "text": [
      "D:\\DEV\\GeoTree\\TreeDetection\n"
     ]
    }
   ],
   "source": [
    "print(HOME_PATH)"
   ],
   "metadata": {
    "collapsed": false,
    "pycharm": {
     "name": "#%%\n"
    }
   }
  },
  {
   "cell_type": "code",
   "execution_count": 4,
   "outputs": [
    {
     "name": "stdout",
     "output_type": "stream",
     "text": [
      "python object_detection/model_main_tf2.py     --pipeline_config_path=D:\\DEV\\GeoTree\\TreeDetection\\my_model\\pipeline.config     --model_dir=D:\\DEV\\GeoTree\\TreeDetection\\my_model     --alsologtostderr\n"
     ]
    }
   ],
   "source": [
    "\n",
    "command = f\"python object_detection/model_main_tf2.py \\\n",
    "    --pipeline_config_path={os.path.join(MY_MODEL,'pipeline.config')} \\\n",
    "    --model_dir={MY_MODEL} \\\n",
    "    --alsologtostderr\"\n",
    "print(command)"
   ],
   "metadata": {
    "collapsed": false,
    "pycharm": {
     "name": "#%%\n"
    }
   }
  },
  {
   "cell_type": "code",
   "execution_count": null,
   "outputs": [],
   "source": [],
   "metadata": {
    "collapsed": false,
    "pycharm": {
     "name": "#%%\n"
    }
   }
  },
  {
   "cell_type": "code",
   "execution_count": null,
   "outputs": [],
   "source": [
    "os.chdir(RESEARCH_PATH)\n",
    "os.system()"
   ],
   "metadata": {
    "collapsed": false,
    "pycharm": {
     "name": "#%%\n"
    }
   }
  },
  {
   "cell_type": "code",
   "execution_count": null,
   "outputs": [],
   "source": [],
   "metadata": {
    "collapsed": false,
    "pycharm": {
     "name": "#%%\n"
    }
   }
  },
  {
   "cell_type": "code",
   "execution_count": null,
   "outputs": [],
   "source": [],
   "metadata": {
    "collapsed": false,
    "pycharm": {
     "name": "#%%\n"
    }
   }
  },
  {
   "cell_type": "code",
   "execution_count": null,
   "outputs": [],
   "source": [],
   "metadata": {
    "collapsed": false,
    "pycharm": {
     "name": "#%%\n"
    }
   }
  },
  {
   "cell_type": "code",
   "execution_count": null,
   "outputs": [],
   "source": [],
   "metadata": {
    "collapsed": false,
    "pycharm": {
     "name": "#%%\n"
    }
   }
  },
  {
   "cell_type": "code",
   "execution_count": null,
   "outputs": [],
   "source": [],
   "metadata": {
    "collapsed": false,
    "pycharm": {
     "name": "#%%\n"
    }
   }
  },
  {
   "cell_type": "code",
   "execution_count": null,
   "outputs": [],
   "source": [],
   "metadata": {
    "collapsed": false,
    "pycharm": {
     "name": "#%%\n"
    }
   }
  },
  {
   "cell_type": "code",
   "execution_count": null,
   "outputs": [],
   "source": [],
   "metadata": {
    "collapsed": false,
    "pycharm": {
     "name": "#%%\n"
    }
   }
  },
  {
   "cell_type": "code",
   "execution_count": null,
   "outputs": [],
   "source": [],
   "metadata": {
    "collapsed": false,
    "pycharm": {
     "name": "#%%\n"
    }
   }
  },
  {
   "cell_type": "code",
   "execution_count": null,
   "outputs": [],
   "source": [],
   "metadata": {
    "collapsed": false,
    "pycharm": {
     "name": "#%%\n"
    }
   }
  },
  {
   "cell_type": "code",
   "execution_count": null,
   "outputs": [],
   "source": [],
   "metadata": {
    "collapsed": false,
    "pycharm": {
     "name": "#%%\n"
    }
   }
  },
  {
   "cell_type": "code",
   "execution_count": null,
   "outputs": [],
   "source": [],
   "metadata": {
    "collapsed": false,
    "pycharm": {
     "name": "#%%\n"
    }
   }
  },
  {
   "cell_type": "code",
   "execution_count": null,
   "outputs": [],
   "source": [],
   "metadata": {
    "collapsed": false,
    "pycharm": {
     "name": "#%%\n"
    }
   }
  },
  {
   "cell_type": "code",
   "execution_count": null,
   "outputs": [],
   "source": [],
   "metadata": {
    "collapsed": false,
    "pycharm": {
     "name": "#%%\n"
    }
   }
  },
  {
   "cell_type": "code",
   "execution_count": null,
   "outputs": [],
   "source": [],
   "metadata": {
    "collapsed": false,
    "pycharm": {
     "name": "#%%\n"
    }
   }
  },
  {
   "cell_type": "code",
   "execution_count": null,
   "outputs": [],
   "source": [],
   "metadata": {
    "collapsed": false,
    "pycharm": {
     "name": "#%%\n"
    }
   }
  },
  {
   "cell_type": "code",
   "execution_count": null,
   "outputs": [],
   "source": [],
   "metadata": {
    "collapsed": false,
    "pycharm": {
     "name": "#%%\n"
    }
   }
  },
  {
   "cell_type": "code",
   "execution_count": null,
   "outputs": [],
   "source": [],
   "metadata": {
    "collapsed": false,
    "pycharm": {
     "name": "#%%\n"
    }
   }
  },
  {
   "cell_type": "code",
   "execution_count": null,
   "outputs": [],
   "source": [],
   "metadata": {
    "collapsed": false,
    "pycharm": {
     "name": "#%%\n"
    }
   }
  },
  {
   "cell_type": "code",
   "execution_count": null,
   "outputs": [],
   "source": [],
   "metadata": {
    "collapsed": false,
    "pycharm": {
     "name": "#%%\n"
    }
   }
  },
  {
   "cell_type": "code",
   "execution_count": null,
   "outputs": [],
   "source": [],
   "metadata": {
    "collapsed": false,
    "pycharm": {
     "name": "#%%\n"
    }
   }
  },
  {
   "cell_type": "code",
   "execution_count": null,
   "outputs": [],
   "source": [],
   "metadata": {
    "collapsed": false,
    "pycharm": {
     "name": "#%%\n"
    }
   }
  },
  {
   "cell_type": "code",
   "execution_count": null,
   "outputs": [],
   "source": [],
   "metadata": {
    "collapsed": false,
    "pycharm": {
     "name": "#%%\n"
    }
   }
  },
  {
   "cell_type": "code",
   "execution_count": null,
   "outputs": [],
   "source": [],
   "metadata": {
    "collapsed": false,
    "pycharm": {
     "name": "#%%\n"
    }
   }
  },
  {
   "cell_type": "code",
   "execution_count": null,
   "outputs": [],
   "source": [],
   "metadata": {
    "collapsed": false,
    "pycharm": {
     "name": "#%%\n"
    }
   }
  },
  {
   "cell_type": "code",
   "execution_count": null,
   "outputs": [],
   "source": [],
   "metadata": {
    "collapsed": false,
    "pycharm": {
     "name": "#%%\n"
    }
   }
  }
 ],
 "metadata": {
  "kernelspec": {
   "display_name": "tfod",
   "language": "python",
   "name": "tfod"
  },
  "language_info": {
   "codemirror_mode": {
    "name": "ipython",
    "version": 3
   },
   "file_extension": ".py",
   "mimetype": "text/x-python",
   "name": "python",
   "nbconvert_exporter": "python",
   "pygments_lexer": "ipython3",
   "version": "3.6.9"
  },
  "varInspector": {
   "cols": {
    "lenName": 16,
    "lenType": 16,
    "lenVar": 40
   },
   "kernels_config": {
    "python": {
     "delete_cmd_postfix": "",
     "delete_cmd_prefix": "del ",
     "library": "var_list.py",
     "varRefreshCmd": "print(var_dic_list())"
    },
    "r": {
     "delete_cmd_postfix": ") ",
     "delete_cmd_prefix": "rm(",
     "library": "var_list.r",
     "varRefreshCmd": "cat(var_dic_list()) "
    }
   },
   "types_to_exclude": [
    "module",
    "function",
    "builtin_function_or_method",
    "instance",
    "_Feature"
   ],
   "window_display": false
  }
 },
 "nbformat": 4,
 "nbformat_minor": 1
}